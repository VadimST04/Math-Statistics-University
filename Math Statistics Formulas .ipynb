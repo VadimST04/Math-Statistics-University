{
 "cells": [
  {
   "cell_type": "markdown",
   "id": "b1d8d8e3",
   "metadata": {},
   "source": [
    "#### Importing\n",
    "```python\n",
    "%matplotlib inline\n",
    "import matplotlib.pyplot as plt\n",
    "import pandas as pd\n",
    "import numpy as np\n",
    "import seaborn as sns\n",
    "import statsmodels.api as sm\n",
    "```"
   ]
  },
  {
   "cell_type": "markdown",
   "id": "49e87a79",
   "metadata": {},
   "source": [
    "### Constructing Confidence Intervals"
   ]
  },
  {
   "cell_type": "markdown",
   "id": "53a4fdfa",
   "metadata": {},
   "source": [
    "$$====================================================================================$$"
   ]
  },
  {
   "cell_type": "markdown",
   "id": "21ab2d5c",
   "metadata": {},
   "source": [
    "#### Population proportion\n",
    "\n",
    "$$Best\\ Estimate \\pm Margin\\ of\\ Error$$\n",
    "\n",
    "<br>\n",
    "\n",
    "<center>Answer is (<b>lower confidence bound (LCB)</b>, <b>upper confidence bound (UCB)</b>)</center>\n",
    "\n",
    "<br>\n",
    "<br>\n",
    "\n",
    "\n",
    "$$Standard\\ Error \\ for\\ Population\\ Proportion = Z * \\sqrt{\\frac{Population\\ Proportion * (1 - Population\\ Proportion)}{Number\\ Of\\ Observations}} = Z * \\sqrt{\\frac{p * (1 - p)}{n}}$$\n",
    "\n",
    "<br>\n",
    "\n",
    "$$Standard\\ Error \\ for\\ Population\\ Proportion \\ (Conservative \\ Approach) = Z * \\frac{1}{2\\sqrt{n}}$$\n",
    "\n",
    "<br>\n",
    "\n",
    "$$Difference\\ in \\ Proportion\\ Confidence \\ Interval = p_{\\ 1}-p_{\\ 2} ± Z * \\sqrt{\\frac{p_{\\ 1}*(1-p_{\\ 1})}{n_{\\ 1}} + \\frac{p_{\\ 2}*(1-p_{\\ 2})}{n_{\\ 2}}}$$\n"
   ]
  },
  {
   "cell_type": "markdown",
   "id": "8b7417ce",
   "metadata": {},
   "source": [
    "#### Different z-multipliers depending on confidence\n",
    "<img src=\"different_z_multipliers.png\" width=\"700px\">"
   ]
  },
  {
   "cell_type": "markdown",
   "id": "5d24d717",
   "metadata": {},
   "source": [
    "###### Calculate population proportion interval with python\n",
    "```python\n",
    "sm.stats.proportion_confint(n * p, n)\n",
    "```"
   ]
  },
  {
   "cell_type": "markdown",
   "id": "e9ff6133",
   "metadata": {},
   "source": [
    "##### Example of calculating population proportion interval\n",
    "```python\n",
    "tstar = 1.96\n",
    "p = .85\n",
    "n = 659\n",
    "# se - margin of error\n",
    "se = np.sqrt((p * (1 - p))/n)\n",
    "# lcb - lower confidence bound\n",
    "# ucb - upper confidence bound\n",
    "lcb = p - tstar * se\n",
    "ucb = p + tstar * se\n",
    "(lcb, ucb)\n",
    "```"
   ]
  },
  {
   "cell_type": "markdown",
   "id": "f38311b1",
   "metadata": {},
   "source": [
    "$$====================================================================================$$"
   ]
  },
  {
   "cell_type": "markdown",
   "id": "0ed44568",
   "metadata": {},
   "source": [
    "#### Mean\n",
    "\n",
    "Where the *Best Estimate* is the **observed population proportion or mean** from the sample and the *Margin of Error* is the **t-multiplier**.\n",
    "\n",
    "<br>\n",
    "<br>\n",
    "\n",
    "$$Mean = μ\\ ±\\ t * \\frac{Standard\\ Deviation}{\\sqrt{Number\\ Of\\ Observations}} = μ\\ ±\\ t * \\frac{s}{\\sqrt{n}}$$\n",
    "\n",
    "<br>\n",
    "\n",
    "$$Difference\\ in\\ Means\\ for\\ Paired\\ Data = μ_{\\ d}\\ ±\\ t * \\frac{s_{\\ d}}{\\sqrt{n}}$$\n",
    "\n",
    "**Difference in Means for Independent Groups:**\n",
    "\n",
    "$$Unpooled\\ Interval\\ Confidence\\ Calculations\\ = μ_{\\ 1}-μ_{\\ 2}\\ ±\\ t * \\sqrt{\\frac{s_{\\ 1}^2}{n_{\\ 1}} + \\frac{s_{\\ 2}^2}{n_{\\ 2}}}$$\n",
    "\n",
    "<br>\n",
    "\n",
    "$$Pooled\\ Interval\\ Confidence\\ Calculations\\ = μ_{\\ 1}-μ_{\\ 2}\\ ±\\ t * \\sqrt{\\frac{(n_{\\ 1} - 1)s_{\\ 1}^2 + (n_{\\ 2} - 1)s_{\\ 2}^2}{n_{\\ 1}+n_{\\ 2}-2}}\\ \\sqrt{\\frac{1}{n_{\\ 1}1} + \\frac{1}{n_{\\ 2}}}$$"
   ]
  },
  {
   "cell_type": "markdown",
   "id": "c443b754",
   "metadata": {},
   "source": [
    "##### Calculate mean interval with python\n",
    "```python\n",
    "sm.stats.DescrStatsW(df[\"CWDistance\"]).zconfint_mean()\n",
    "```"
   ]
  },
  {
   "cell_type": "markdown",
   "id": "22c3a1ba",
   "metadata": {},
   "source": [
    "$$====================================================================================$$"
   ]
  },
  {
   "cell_type": "markdown",
   "id": "358c52e3",
   "metadata": {},
   "source": [
    "##### To find t* multiplier depending on df and alpha\n",
    "<img src=\"find_t_in_table.jpg\" width=\"700px\">"
   ]
  },
  {
   "cell_type": "markdown",
   "id": "d828546b",
   "metadata": {},
   "source": [
    "$$====================================================================================$$"
   ]
  },
  {
   "cell_type": "markdown",
   "id": "1e126bd7",
   "metadata": {},
   "source": [
    "In order to get rid of dummy and non values\n",
    "```python\n",
    "da[\"SMQ020x\"] = da.SMQ020.replace({1: \"Yes\", 2: \"No\", 7: np.nan, 9: np.nan})\n",
    "da[\"RIAGENDRx\"] = da.RIAGENDR.replace({1: \"Male\", 2: \"Female\"})\n",
    "```\n",
    "In order to drop dummy and non values\n",
    "```python\n",
    "dummy and non values\n",
    "```\n",
    "In order to cross different values in one common table\n",
    "```python\n",
    "pd.crosstab(dx.SMQ020x, dx.RIAGENDRx)\n",
    "```\n",
    "Result:\n",
    "<center><b>RIAGENDRx Female Male</b></center>\n",
    "\n",
    "| SMQ020x | Female | Male |\n",
    "|---------|--------|------|\n",
    "| No | 2066 | 1340 |\n",
    "| Yes | 906 | 1413 |\n",
    "\n",
    "In order to aggrigate values by group\n",
    "```python\n",
    "dz = dx.groupby(\"RIAGENDRx\").agg({\"SMQ020x\": [np.mean, np.size]})\n",
    "```\n",
    "In order to see all available methods\n",
    "```python\n",
    "df.describe()\n",
    "```"
   ]
  },
  {
   "cell_type": "code",
   "execution_count": null,
   "id": "7386d29c",
   "metadata": {},
   "outputs": [],
   "source": []
  },
  {
   "cell_type": "markdown",
   "id": "77ebe671",
   "metadata": {},
   "source": [
    "## Hypothesis Testing\n",
    "\n",
    "The equation is:\n",
    "\n",
    "$$\\frac{Best\\ Estimate - Hypothesized\\ Estimate}{Standard\\ Error\\ of\\ Estimate}$$ \n",
    "\n",
    "We will use the examples from our lectures and use python functions to streamline our tests.\n",
    "\n",
    "### One Population Proportion\n",
    "\n",
    "$$Z = \\frac{\\hat{p}-p_{\\ 0}}{\\sqrt{\\frac{p_{\\ 0} (1 - p_{\\ 0})}{n}}}$$\n",
    "\n",
    "### Difference in Population Proportions\n",
    "\n",
    "$$Z = \\frac{\\hat{p_{\\ 1}} - \\hat{p_{\\ 2}} - null\\ hip}{\\sqrt{\\hat{p} (1 - \\hat{p}) (\\frac{1}{n_{\\ 1}} + \\frac{1}{n_{\\ 2}})}}$$\n",
    "\n",
    "\n",
    "### One Population Mean\n",
    "$$t = \\frac{\\hat{μ}-μ_{\\ 0}}{\\frac{s}{\\sqrt{n}}}$$\n",
    "\n",
    "\n",
    "### Difference in Population Means (Independent)\n",
    "\n",
    "$$t = \\frac{(\\hat{μ_{\\ 1}} - \\hat{μ_{\\ 2}}) - null\\ hip}{\\sqrt{\\frac{s_{\\ 1}^2}{n_{\\ 1}} + \\frac{s_{\\ 2}^2}{n_{\\ 2}}}}$$\n",
    "\n",
    "\n",
    "### Automate z and t search\n",
    "\n",
    "#### One Population Proportion\n",
    "In order to find z mutiplier and p-value for it:\n",
    "```python\n",
    "sm.stats.proportions_ztest(phat * n, n, pnull)\n",
    "```\n",
    "#### Difference in Population Proportions\n",
    "In order to find z mutiplier and p-value for it:\n",
    "```python\n",
    "test_stat = (p1 - p2) / se\n",
    "pvalue = 2*dist.norm.cdf(-np.abs(test_stat))\n",
    "```\n",
    "\n",
    "\n",
    "#### One Population Mean\n",
    "In order to find t mutiplier and p-value for it:\n",
    "```python\n",
    "sm.stats.ztest(df[\"CWDistance\"], value = 80, alternative = \"larger\")\n",
    "```\n",
    "\n",
    "#### Difference in Population Means (Independent)\n",
    "In order to find t mutiplier and p-value for it:\n",
    "```python\n",
    "sm.stats.ztest(females[\"BMXBMI\"].dropna(), male[\"BMXBMI\"].dropna())\n",
    "```"
   ]
  },
  {
   "cell_type": "markdown",
   "id": "0d14aef5",
   "metadata": {},
   "source": [
    "##### To find p-value in z-tests\n",
    "<img src=\"fin_ p-value _n_z-tests.png\" width=\"700px\">"
   ]
  }
 ],
 "metadata": {
  "kernelspec": {
   "display_name": "Python 3 (ipykernel)",
   "language": "python",
   "name": "python3"
  },
  "language_info": {
   "codemirror_mode": {
    "name": "ipython",
    "version": 3
   },
   "file_extension": ".py",
   "mimetype": "text/x-python",
   "name": "python",
   "nbconvert_exporter": "python",
   "pygments_lexer": "ipython3",
   "version": "3.11.5"
  }
 },
 "nbformat": 4,
 "nbformat_minor": 5
}
