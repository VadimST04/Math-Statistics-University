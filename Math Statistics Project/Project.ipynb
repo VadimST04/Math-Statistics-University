{
 "cells": [
  {
   "cell_type": "code",
   "execution_count": 1,
   "id": "1fa87c67",
   "metadata": {},
   "outputs": [],
   "source": [
    "%matplotlib inline\n",
    "import matplotlib.pyplot as plt\n",
    "import pandas as pd\n",
    "import numpy as np\n",
    "import seaborn as sns\n",
    "import statsmodels.api as sm\n",
    "import scipy.stats as stat\n",
    "from scipy.stats import norm, gamma"
   ]
  },
  {
   "cell_type": "code",
   "execution_count": 3,
   "id": "2aa2ba5a",
   "metadata": {},
   "outputs": [
    {
     "data": {
      "text/html": [
       "<div>\n",
       "<style scoped>\n",
       "    .dataframe tbody tr th:only-of-type {\n",
       "        vertical-align: middle;\n",
       "    }\n",
       "\n",
       "    .dataframe tbody tr th {\n",
       "        vertical-align: top;\n",
       "    }\n",
       "\n",
       "    .dataframe thead th {\n",
       "        text-align: right;\n",
       "    }\n",
       "</style>\n",
       "<table border=\"1\" class=\"dataframe\">\n",
       "  <thead>\n",
       "    <tr style=\"text-align: right;\">\n",
       "      <th></th>\n",
       "      <th>work_year</th>\n",
       "      <th>experience_level</th>\n",
       "      <th>employment_type</th>\n",
       "      <th>job_title</th>\n",
       "      <th>salary</th>\n",
       "      <th>salary_currency</th>\n",
       "      <th>salary_in_usd</th>\n",
       "      <th>employee_residence</th>\n",
       "      <th>remote_ratio</th>\n",
       "      <th>company_location</th>\n",
       "      <th>company_size</th>\n",
       "    </tr>\n",
       "  </thead>\n",
       "  <tbody>\n",
       "    <tr>\n",
       "      <th>2</th>\n",
       "      <td>2023</td>\n",
       "      <td>SE</td>\n",
       "      <td>FT</td>\n",
       "      <td>Security Engineer</td>\n",
       "      <td>247250</td>\n",
       "      <td>USD</td>\n",
       "      <td>247250</td>\n",
       "      <td>US</td>\n",
       "      <td>0</td>\n",
       "      <td>US</td>\n",
       "      <td>M</td>\n",
       "    </tr>\n",
       "    <tr>\n",
       "      <th>3</th>\n",
       "      <td>2023</td>\n",
       "      <td>SE</td>\n",
       "      <td>FT</td>\n",
       "      <td>Security Engineer</td>\n",
       "      <td>160000</td>\n",
       "      <td>USD</td>\n",
       "      <td>160000</td>\n",
       "      <td>US</td>\n",
       "      <td>0</td>\n",
       "      <td>US</td>\n",
       "      <td>M</td>\n",
       "    </tr>\n",
       "    <tr>\n",
       "      <th>4</th>\n",
       "      <td>2023</td>\n",
       "      <td>SE</td>\n",
       "      <td>FT</td>\n",
       "      <td>Security Engineer</td>\n",
       "      <td>224250</td>\n",
       "      <td>USD</td>\n",
       "      <td>224250</td>\n",
       "      <td>US</td>\n",
       "      <td>0</td>\n",
       "      <td>US</td>\n",
       "      <td>M</td>\n",
       "    </tr>\n",
       "    <tr>\n",
       "      <th>5</th>\n",
       "      <td>2023</td>\n",
       "      <td>SE</td>\n",
       "      <td>FT</td>\n",
       "      <td>Security Engineer</td>\n",
       "      <td>116000</td>\n",
       "      <td>USD</td>\n",
       "      <td>116000</td>\n",
       "      <td>US</td>\n",
       "      <td>0</td>\n",
       "      <td>US</td>\n",
       "      <td>M</td>\n",
       "    </tr>\n",
       "    <tr>\n",
       "      <th>8</th>\n",
       "      <td>2023</td>\n",
       "      <td>SE</td>\n",
       "      <td>FT</td>\n",
       "      <td>Security Engineer</td>\n",
       "      <td>384348</td>\n",
       "      <td>USD</td>\n",
       "      <td>384348</td>\n",
       "      <td>US</td>\n",
       "      <td>0</td>\n",
       "      <td>US</td>\n",
       "      <td>M</td>\n",
       "    </tr>\n",
       "    <tr>\n",
       "      <th>...</th>\n",
       "      <td>...</td>\n",
       "      <td>...</td>\n",
       "      <td>...</td>\n",
       "      <td>...</td>\n",
       "      <td>...</td>\n",
       "      <td>...</td>\n",
       "      <td>...</td>\n",
       "      <td>...</td>\n",
       "      <td>...</td>\n",
       "      <td>...</td>\n",
       "      <td>...</td>\n",
       "    </tr>\n",
       "    <tr>\n",
       "      <th>1932</th>\n",
       "      <td>2023</td>\n",
       "      <td>SE</td>\n",
       "      <td>FT</td>\n",
       "      <td>Security Engineer</td>\n",
       "      <td>189400</td>\n",
       "      <td>USD</td>\n",
       "      <td>189400</td>\n",
       "      <td>US</td>\n",
       "      <td>0</td>\n",
       "      <td>US</td>\n",
       "      <td>M</td>\n",
       "    </tr>\n",
       "    <tr>\n",
       "      <th>1935</th>\n",
       "      <td>2023</td>\n",
       "      <td>SE</td>\n",
       "      <td>FT</td>\n",
       "      <td>Security Engineer</td>\n",
       "      <td>189750</td>\n",
       "      <td>USD</td>\n",
       "      <td>189750</td>\n",
       "      <td>US</td>\n",
       "      <td>0</td>\n",
       "      <td>US</td>\n",
       "      <td>M</td>\n",
       "    </tr>\n",
       "    <tr>\n",
       "      <th>1936</th>\n",
       "      <td>2023</td>\n",
       "      <td>SE</td>\n",
       "      <td>FT</td>\n",
       "      <td>Security Engineer</td>\n",
       "      <td>131100</td>\n",
       "      <td>USD</td>\n",
       "      <td>131100</td>\n",
       "      <td>US</td>\n",
       "      <td>0</td>\n",
       "      <td>US</td>\n",
       "      <td>M</td>\n",
       "    </tr>\n",
       "    <tr>\n",
       "      <th>1937</th>\n",
       "      <td>2023</td>\n",
       "      <td>SE</td>\n",
       "      <td>FT</td>\n",
       "      <td>Security Engineer</td>\n",
       "      <td>204500</td>\n",
       "      <td>USD</td>\n",
       "      <td>204500</td>\n",
       "      <td>US</td>\n",
       "      <td>0</td>\n",
       "      <td>US</td>\n",
       "      <td>M</td>\n",
       "    </tr>\n",
       "    <tr>\n",
       "      <th>1938</th>\n",
       "      <td>2023</td>\n",
       "      <td>SE</td>\n",
       "      <td>FT</td>\n",
       "      <td>Security Engineer</td>\n",
       "      <td>142200</td>\n",
       "      <td>USD</td>\n",
       "      <td>142200</td>\n",
       "      <td>US</td>\n",
       "      <td>0</td>\n",
       "      <td>US</td>\n",
       "      <td>M</td>\n",
       "    </tr>\n",
       "  </tbody>\n",
       "</table>\n",
       "<p>1001 rows × 11 columns</p>\n",
       "</div>"
      ],
      "text/plain": [
       "      work_year experience_level employment_type          job_title  salary  \\\n",
       "2          2023               SE              FT  Security Engineer  247250   \n",
       "3          2023               SE              FT  Security Engineer  160000   \n",
       "4          2023               SE              FT  Security Engineer  224250   \n",
       "5          2023               SE              FT  Security Engineer  116000   \n",
       "8          2023               SE              FT  Security Engineer  384348   \n",
       "...         ...              ...             ...                ...     ...   \n",
       "1932       2023               SE              FT  Security Engineer  189400   \n",
       "1935       2023               SE              FT  Security Engineer  189750   \n",
       "1936       2023               SE              FT  Security Engineer  131100   \n",
       "1937       2023               SE              FT  Security Engineer  204500   \n",
       "1938       2023               SE              FT  Security Engineer  142200   \n",
       "\n",
       "     salary_currency  salary_in_usd employee_residence  remote_ratio  \\\n",
       "2                USD         247250                 US             0   \n",
       "3                USD         160000                 US             0   \n",
       "4                USD         224250                 US             0   \n",
       "5                USD         116000                 US             0   \n",
       "8                USD         384348                 US             0   \n",
       "...              ...            ...                ...           ...   \n",
       "1932             USD         189400                 US             0   \n",
       "1935             USD         189750                 US             0   \n",
       "1936             USD         131100                 US             0   \n",
       "1937             USD         204500                 US             0   \n",
       "1938             USD         142200                 US             0   \n",
       "\n",
       "     company_location company_size  \n",
       "2                  US            M  \n",
       "3                  US            M  \n",
       "4                  US            M  \n",
       "5                  US            M  \n",
       "8                  US            M  \n",
       "...               ...          ...  \n",
       "1932               US            M  \n",
       "1935               US            M  \n",
       "1936               US            M  \n",
       "1937               US            M  \n",
       "1938               US            M  \n",
       "\n",
       "[1001 rows x 11 columns]"
      ]
     },
     "execution_count": 3,
     "metadata": {},
     "output_type": "execute_result"
    }
   ],
   "source": [
    "file = pd.read_csv('salaries.csv')\n",
    "df = file[file['job_title'] == 'Security Engineer'][:1001]\n",
    "df = df[df['work_year'] == 2023]\n",
    "new_df = df[df['work_year'] == 2023]\n",
    "new_df.loc[:, 'salary'] = df['salary'] / 1000\n",
    "new_df\n",
    "df"
   ]
  },
  {
   "cell_type": "code",
   "execution_count": 7,
   "id": "c337bed6",
   "metadata": {},
   "outputs": [
    {
     "data": {
      "text/html": [
       "<div>\n",
       "<style scoped>\n",
       "    .dataframe tbody tr th:only-of-type {\n",
       "        vertical-align: middle;\n",
       "    }\n",
       "\n",
       "    .dataframe tbody tr th {\n",
       "        vertical-align: top;\n",
       "    }\n",
       "\n",
       "    .dataframe thead tr th {\n",
       "        text-align: left;\n",
       "    }\n",
       "\n",
       "    .dataframe thead tr:last-of-type th {\n",
       "        text-align: right;\n",
       "    }\n",
       "</style>\n",
       "<table border=\"1\" class=\"dataframe\">\n",
       "  <thead>\n",
       "    <tr>\n",
       "      <th></th>\n",
       "      <th colspan=\"4\" halign=\"left\">salary</th>\n",
       "    </tr>\n",
       "    <tr>\n",
       "      <th></th>\n",
       "      <th>size</th>\n",
       "      <th>mean</th>\n",
       "      <th>std</th>\n",
       "      <th>var</th>\n",
       "    </tr>\n",
       "    <tr>\n",
       "      <th>work_year</th>\n",
       "      <th></th>\n",
       "      <th></th>\n",
       "      <th></th>\n",
       "      <th></th>\n",
       "    </tr>\n",
       "  </thead>\n",
       "  <tbody>\n",
       "    <tr>\n",
       "      <th>2023</th>\n",
       "      <td>1001</td>\n",
       "      <td>179.90782</td>\n",
       "      <td>65.59315</td>\n",
       "      <td>4302.461296</td>\n",
       "    </tr>\n",
       "  </tbody>\n",
       "</table>\n",
       "</div>"
      ],
      "text/plain": [
       "          salary                                  \n",
       "            size       mean       std          var\n",
       "work_year                                         \n",
       "2023        1001  179.90782  65.59315  4302.461296"
      ]
     },
     "execution_count": 7,
     "metadata": {},
     "output_type": "execute_result"
    }
   ],
   "source": [
    "dz = new_df.groupby(\"work_year\").agg({\"salary\": [np.size, np.mean, np.std, np.var]})\n",
    "dz"
   ]
  },
  {
   "cell_type": "code",
   "execution_count": 8,
   "id": "e528485e",
   "metadata": {},
   "outputs": [
    {
     "data": {
      "text/plain": [
       "0.6807759052684799"
      ]
     },
     "execution_count": 8,
     "metadata": {},
     "output_type": "execute_result"
    }
   ],
   "source": [
    "# skew\n",
    "skew = new_df['salary'].skew()\n",
    "skew"
   ]
  },
  {
   "cell_type": "code",
   "execution_count": 68,
   "id": "53018f6b",
   "metadata": {},
   "outputs": [],
   "source": [
    "# confidence level is 95%"
   ]
  },
  {
   "cell_type": "code",
   "execution_count": 19,
   "id": "086ccbbd",
   "metadata": {},
   "outputs": [
    {
     "data": {
      "text/plain": [
       "(175.84019946470107, 183.9754408949393)"
      ]
     },
     "execution_count": 19,
     "metadata": {},
     "output_type": "execute_result"
    }
   ],
   "source": [
    "# mean\n",
    "mean = new_df['salary'].mean()\n",
    "n = new_df['salary'].count()\n",
    "t = 1.962\n",
    "lcb = mean - (t * (new_df['salary'].std() / np.sqrt(n))) \n",
    "ucb = mean + (t * (new_df['salary'].std() / np.sqrt(n))) \n",
    "(lcb, ucb)"
   ]
  },
  {
   "cell_type": "code",
   "execution_count": 20,
   "id": "7bc06977",
   "metadata": {},
   "outputs": [
    {
     "data": {
      "text/plain": [
       "(33207.99697285168, 57967.466462768956)"
      ]
     },
     "execution_count": 20,
     "metadata": {},
     "output_type": "execute_result"
    }
   ],
   "source": [
    "# var\n",
    "var = new_df['salary'].var()\n",
    "n = new_df['salary'].count()\n",
    "xi2_lcb = 129.561\n",
    "xi2_ucb = 74.222\n",
    "var_lcb = ((n - 1) * var) / xi2_lcb\n",
    "var_ucb = ((n - 1) * var) / xi2_ucb\n",
    "(var_lcb, var_ucb)"
   ]
  },
  {
   "cell_type": "code",
   "execution_count": 36,
   "id": "adfe910c",
   "metadata": {},
   "outputs": [
    {
     "data": {
      "image/png": "[encoded data removed]",
      "text/plain": [
       "<Figure size 640x480 with 1 Axes>"
      ]
     },
     "metadata": {},
     "output_type": "display_data"
    }
   ],
   "source": [
    "salaries = sorted(list(new_df['salary']))\n",
    "\n",
    "plt.hist(salaries, bins=15, density=True)\n",
    "\n",
    "mu, std = np.mean(salaries), np.std(salaries)\n",
    "x = np.linspace(min(salaries), max(salaries), 100)\n",
    "p = norm.pdf(x, mu, std)\n",
    "plt.plot(x, p, 'k', linewidth=2, label='Normal Distribution')\n",
    "\n",
    "params = gamma.fit(salaries)\n",
    "p = gamma.pdf(x, *params)\n",
    "plt.plot(x, p, 'm', linewidth=2, label='Gamma Distribution')\n",
    "\n",
    "plt.title('Salary Distribution')\n",
    "plt.xlabel('Salary')\n",
    "plt.ylabel('Frequency')\n",
    "\n",
    "plt.legend()\n",
    "plt.show()"
   ]
  },
  {
   "cell_type": "code",
   "execution_count": 10,
   "id": "cd8dbdf0",
   "metadata": {},
   "outputs": [
    {
     "ename": "AttributeError",
     "evalue": "module 'os' has no attribute 'getpwd'",
     "output_type": "error",
     "traceback": [
      "\u001b[1;31m---------------------------------------------------------------------------\u001b[0m",
      "\u001b[1;31mAttributeError\u001b[0m                            Traceback (most recent call last)",
      "Cell \u001b[1;32mIn[10], line 2\u001b[0m\n\u001b[0;32m      1\u001b[0m \u001b[38;5;28;01mimport\u001b[39;00m \u001b[38;5;21;01mos\u001b[39;00m\n\u001b[1;32m----> 2\u001b[0m os\u001b[38;5;241m.\u001b[39mgetpwd()\n",
      "\u001b[1;31mAttributeError\u001b[0m: module 'os' has no attribute 'getpwd'"
     ]
    }
   ],
   "source": [
    "import os\n",
    "os.getpwd()"
   ]
  },
  {
   "cell_type": "code",
   "execution_count": null,
   "id": "bfffad8d",
   "metadata": {},
   "outputs": [],
   "source": []
  },
  {
   "cell_type": "code",
   "execution_count": null,
   "id": "7b363f76",
   "metadata": {},
   "outputs": [],
   "source": []
  },
  {
   "cell_type": "code",
   "execution_count": null,
   "id": "a6fdb125",
   "metadata": {},
   "outputs": [],
   "source": []
  }
 ],
 "metadata": {
  "kernelspec": {
   "display_name": "Python 3 (ipykernel)",
   "language": "python",
   "name": "python3"
  },
  "language_info": {
   "codemirror_mode": {
    "name": "ipython",
    "version": 3
   },
   "file_extension": ".py",
   "mimetype": "text/x-python",
   "name": "python",
   "nbconvert_exporter": "python",
   "pygments_lexer": "ipython3",
   "version": "3.11.5"
  }
 },
 "nbformat": 4,
 "nbformat_minor": 5
}
